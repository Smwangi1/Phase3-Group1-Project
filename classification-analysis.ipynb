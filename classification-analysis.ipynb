{
 "cells": [
  {
   "cell_type": "markdown",
   "id": "bd4ccb4a",
   "metadata": {},
   "source": [
    "# Customer Churn Prediction for SyriaTel Telecommunication Company\n",
    "### Objective\n",
    "Build a classification model to predict customer churn in SyriaTel's Telecommunication company, enabling targeted interventions to retain at-risk customers.\n",
    "\n",
    "### Purpose\n",
    "Reduce SyriaTel’s customer churn rate by developing a predictive model that identifies at-risk customers and delivers actionable insights for targeted retention strategies, ultimately lowering acquisition costs and increasing customer lifetime value.\n",
    "\n",
    "### Approach\n",
    "Use customer data(e.g, area code, billing information, subcription plan e.t.c) to develop a predictive model through stages of business understanding, data understanding,,preprocessing, modeling, evaluating and lastly deployment."
   ]
  },
  {
   "cell_type": "markdown",
   "id": "c4453bdd",
   "metadata": {},
   "source": [
    "## Business Understanding\n",
    "### 1.1 Business Overview\n",
    "SyriaTel, a leading telecommunication provider in Syria, operates in a highly competitive market where customer retention is critical due to high customer acquisition costs. Customer churn when customers switch to competitors (e.g., MTN Syria) or discontinue services directly erodes revenue and profitability. By leveraging predictive analytics, SyriaTel aims to identify at-risk customers and implement targeted retention strategies, such as tailored promotions, enhanced service offerings, or improved customer support, to maintain loyalty and strengthen its market position in Syria’s telecom sector.\n",
    "\n",
    "### 1.2 Problem Statement\n",
    "Customer churn poses a significant challenge for SyriaTel, leading to revenue loss and increased marketing expenses. Without predictive insights, SyriaTel struggles to identify which customers are likely to churn and the underlying reasons, limiting the effectiveness of retention efforts. The problem is to develop a classification model that accurately predicts customer churn based on SyriaTel’s customer data (e.g., usage patterns, plan types, billing, and service interactions), enabling proactive and targeted interventions to reduce churn rates and improve customer retention.\n",
    "\n",
    "### 1.3 Business Objectives\n",
    "#### Main Objective\n",
    "Develop a predictive model to identify SyriaTel customers at high risk of churn. \n",
    "#### Specific Objective\n",
    "1. Identify key factors driving churn at SyriaTel (e.g., high billing charges, frequent customer service calls, lack of international or voicemail plans) to inform service and pricing improvements.\n",
    "2. Segment at-risk customers (e.g., by plan type, call usage, or tenure) to prioritize retention efforts for high-value groups.\n",
    "3. Optimize resource allocation for SyriaTel’s marketing and customer service teams by targeting interventions based on churn predictions, reducing costs and improving efficiency.\n",
    "\n",
    "### 1.4 Research Questions\n",
    "- What are the primary factors (e.g., high total day charge, frequent customer service calls, or absence of international plan) contributing to customer churn at SyriaTel?\n",
    "- Which customer segments (e.g., long-tenure vs. short-tenure customers, high vs. low usage, or specific area code regions) are most likely to churn?\n",
    "- How can SyriaTel use churn predictions to allocate marketing and customer service resources effectively (e.g., offering discounts to high-usage customers or improving support for those with frequent complaints)?\n",
    "\n",
    "### 1.5 Success Criteria \n",
    "Model Performance Metrics:\n",
    "Achieve high recall (>80%) to ensure most at-risk customers are identified for retention efforts.\n",
    "Maintain a balanced F1-score (>0.7) and AUC-ROC (>0.8) to ensure robust and reliable predictions.\n",
    "\n",
    "- Increase customer satisfaction (e.g., through reduced customer service calls or improved feedback) by addressing key churn drivers.\n",
    "\n"
   ]
  },
  {
   "cell_type": "markdown",
   "id": "2634f958",
   "metadata": {},
   "source": [
    "### Data Understanding\n",
    "We assessed SyriaTel’s customer dataset(from Kaggle open source) to ensure it is relevant, sufficient, and suitable for building a churn prediction model.   \n",
    "Data description  \n",
    "Customer Data (Provided):Account Information: account length (tenure in months), area code, phone number, state.      \n",
    "Service Usage: international plan (yes/no), voice mail plan (yes/no), number vmail messages, total day minutes, total day calls, total eve minutes, total eve calls, total night minutes, total night calls, total intl minutes, total intl calls.        \n",
    "Billing: total day charge, total eve charge, total night charge, total intl charge.       \n",
    "Customer Support: customer service calls.      \n",
    "Target Variable: churn (True/False, indicating whether the customer churned)."
   ]
  },
  {
   "cell_type": "code",
   "execution_count": 1,
   "id": "847e66b7",
   "metadata": {},
   "outputs": [
    {
     "data": {
      "text/html": [
       "<div>\n",
       "<style scoped>\n",
       "    .dataframe tbody tr th:only-of-type {\n",
       "        vertical-align: middle;\n",
       "    }\n",
       "\n",
       "    .dataframe tbody tr th {\n",
       "        vertical-align: top;\n",
       "    }\n",
       "\n",
       "    .dataframe thead th {\n",
       "        text-align: right;\n",
       "    }\n",
       "</style>\n",
       "<table border=\"1\" class=\"dataframe\">\n",
       "  <thead>\n",
       "    <tr style=\"text-align: right;\">\n",
       "      <th></th>\n",
       "      <th>account length</th>\n",
       "      <th>area code</th>\n",
       "      <th>phone number</th>\n",
       "      <th>international plan</th>\n",
       "      <th>voice mail plan</th>\n",
       "      <th>number vmail messages</th>\n",
       "      <th>total day minutes</th>\n",
       "      <th>total day calls</th>\n",
       "      <th>total day charge</th>\n",
       "      <th>total eve minutes</th>\n",
       "      <th>total eve calls</th>\n",
       "      <th>total eve charge</th>\n",
       "      <th>total night minutes</th>\n",
       "      <th>total night calls</th>\n",
       "      <th>total night charge</th>\n",
       "      <th>total intl minutes</th>\n",
       "      <th>total intl calls</th>\n",
       "      <th>total intl charge</th>\n",
       "      <th>customer service calls</th>\n",
       "      <th>churn</th>\n",
       "    </tr>\n",
       "    <tr>\n",
       "      <th>state</th>\n",
       "      <th></th>\n",
       "      <th></th>\n",
       "      <th></th>\n",
       "      <th></th>\n",
       "      <th></th>\n",
       "      <th></th>\n",
       "      <th></th>\n",
       "      <th></th>\n",
       "      <th></th>\n",
       "      <th></th>\n",
       "      <th></th>\n",
       "      <th></th>\n",
       "      <th></th>\n",
       "      <th></th>\n",
       "      <th></th>\n",
       "      <th></th>\n",
       "      <th></th>\n",
       "      <th></th>\n",
       "      <th></th>\n",
       "      <th></th>\n",
       "    </tr>\n",
       "  </thead>\n",
       "  <tbody>\n",
       "    <tr>\n",
       "      <th>KS</th>\n",
       "      <td>128</td>\n",
       "      <td>415</td>\n",
       "      <td>382-4657</td>\n",
       "      <td>no</td>\n",
       "      <td>yes</td>\n",
       "      <td>25</td>\n",
       "      <td>265.1</td>\n",
       "      <td>110</td>\n",
       "      <td>45.07</td>\n",
       "      <td>197.4</td>\n",
       "      <td>99</td>\n",
       "      <td>16.78</td>\n",
       "      <td>244.7</td>\n",
       "      <td>91</td>\n",
       "      <td>11.01</td>\n",
       "      <td>10.0</td>\n",
       "      <td>3</td>\n",
       "      <td>2.70</td>\n",
       "      <td>1</td>\n",
       "      <td>False</td>\n",
       "    </tr>\n",
       "    <tr>\n",
       "      <th>OH</th>\n",
       "      <td>107</td>\n",
       "      <td>415</td>\n",
       "      <td>371-7191</td>\n",
       "      <td>no</td>\n",
       "      <td>yes</td>\n",
       "      <td>26</td>\n",
       "      <td>161.6</td>\n",
       "      <td>123</td>\n",
       "      <td>27.47</td>\n",
       "      <td>195.5</td>\n",
       "      <td>103</td>\n",
       "      <td>16.62</td>\n",
       "      <td>254.4</td>\n",
       "      <td>103</td>\n",
       "      <td>11.45</td>\n",
       "      <td>13.7</td>\n",
       "      <td>3</td>\n",
       "      <td>3.70</td>\n",
       "      <td>1</td>\n",
       "      <td>False</td>\n",
       "    </tr>\n",
       "    <tr>\n",
       "      <th>NJ</th>\n",
       "      <td>137</td>\n",
       "      <td>415</td>\n",
       "      <td>358-1921</td>\n",
       "      <td>no</td>\n",
       "      <td>no</td>\n",
       "      <td>0</td>\n",
       "      <td>243.4</td>\n",
       "      <td>114</td>\n",
       "      <td>41.38</td>\n",
       "      <td>121.2</td>\n",
       "      <td>110</td>\n",
       "      <td>10.30</td>\n",
       "      <td>162.6</td>\n",
       "      <td>104</td>\n",
       "      <td>7.32</td>\n",
       "      <td>12.2</td>\n",
       "      <td>5</td>\n",
       "      <td>3.29</td>\n",
       "      <td>0</td>\n",
       "      <td>False</td>\n",
       "    </tr>\n",
       "    <tr>\n",
       "      <th>OH</th>\n",
       "      <td>84</td>\n",
       "      <td>408</td>\n",
       "      <td>375-9999</td>\n",
       "      <td>yes</td>\n",
       "      <td>no</td>\n",
       "      <td>0</td>\n",
       "      <td>299.4</td>\n",
       "      <td>71</td>\n",
       "      <td>50.90</td>\n",
       "      <td>61.9</td>\n",
       "      <td>88</td>\n",
       "      <td>5.26</td>\n",
       "      <td>196.9</td>\n",
       "      <td>89</td>\n",
       "      <td>8.86</td>\n",
       "      <td>6.6</td>\n",
       "      <td>7</td>\n",
       "      <td>1.78</td>\n",
       "      <td>2</td>\n",
       "      <td>False</td>\n",
       "    </tr>\n",
       "    <tr>\n",
       "      <th>OK</th>\n",
       "      <td>75</td>\n",
       "      <td>415</td>\n",
       "      <td>330-6626</td>\n",
       "      <td>yes</td>\n",
       "      <td>no</td>\n",
       "      <td>0</td>\n",
       "      <td>166.7</td>\n",
       "      <td>113</td>\n",
       "      <td>28.34</td>\n",
       "      <td>148.3</td>\n",
       "      <td>122</td>\n",
       "      <td>12.61</td>\n",
       "      <td>186.9</td>\n",
       "      <td>121</td>\n",
       "      <td>8.41</td>\n",
       "      <td>10.1</td>\n",
       "      <td>3</td>\n",
       "      <td>2.73</td>\n",
       "      <td>3</td>\n",
       "      <td>False</td>\n",
       "    </tr>\n",
       "  </tbody>\n",
       "</table>\n",
       "</div>"
      ],
      "text/plain": [
       "       account length  area code phone number international plan  \\\n",
       "state                                                              \n",
       "KS                128        415     382-4657                 no   \n",
       "OH                107        415     371-7191                 no   \n",
       "NJ                137        415     358-1921                 no   \n",
       "OH                 84        408     375-9999                yes   \n",
       "OK                 75        415     330-6626                yes   \n",
       "\n",
       "      voice mail plan  number vmail messages  total day minutes  \\\n",
       "state                                                             \n",
       "KS                yes                     25              265.1   \n",
       "OH                yes                     26              161.6   \n",
       "NJ                 no                      0              243.4   \n",
       "OH                 no                      0              299.4   \n",
       "OK                 no                      0              166.7   \n",
       "\n",
       "       total day calls  total day charge  total eve minutes  total eve calls  \\\n",
       "state                                                                          \n",
       "KS                 110             45.07              197.4               99   \n",
       "OH                 123             27.47              195.5              103   \n",
       "NJ                 114             41.38              121.2              110   \n",
       "OH                  71             50.90               61.9               88   \n",
       "OK                 113             28.34              148.3              122   \n",
       "\n",
       "       total eve charge  total night minutes  total night calls  \\\n",
       "state                                                             \n",
       "KS                16.78                244.7                 91   \n",
       "OH                16.62                254.4                103   \n",
       "NJ                10.30                162.6                104   \n",
       "OH                 5.26                196.9                 89   \n",
       "OK                12.61                186.9                121   \n",
       "\n",
       "       total night charge  total intl minutes  total intl calls  \\\n",
       "state                                                             \n",
       "KS                  11.01                10.0                 3   \n",
       "OH                  11.45                13.7                 3   \n",
       "NJ                   7.32                12.2                 5   \n",
       "OH                   8.86                 6.6                 7   \n",
       "OK                   8.41                10.1                 3   \n",
       "\n",
       "       total intl charge  customer service calls  churn  \n",
       "state                                                    \n",
       "KS                  2.70                       1  False  \n",
       "OH                  3.70                       1  False  \n",
       "NJ                  3.29                       0  False  \n",
       "OH                  1.78                       2  False  \n",
       "OK                  2.73                       3  False  "
      ]
     },
     "execution_count": 1,
     "metadata": {},
     "output_type": "execute_result"
    }
   ],
   "source": [
    "import pandas as pd \n",
    "import numpy as np \n",
    "import matplotlib.pyplot as plt \n",
    "import seaborn as sns \n",
    "\n",
    "\n",
    "data = pd.read_csv('syriatel.csv', index_col = 0)\n",
    "data.head()"
   ]
  },
  {
   "cell_type": "code",
   "execution_count": 2,
   "id": "8df96f58",
   "metadata": {},
   "outputs": [
    {
     "data": {
      "text/plain": [
       "(3333, 20)"
      ]
     },
     "execution_count": 2,
     "metadata": {},
     "output_type": "execute_result"
    }
   ],
   "source": [
    "data.shape"
   ]
  },
  {
   "cell_type": "code",
   "execution_count": 3,
   "id": "cd3cf6c2",
   "metadata": {},
   "outputs": [
    {
     "data": {
      "text/plain": [
       "Index(['account length', 'area code', 'phone number', 'international plan',\n",
       "       'voice mail plan', 'number vmail messages', 'total day minutes',\n",
       "       'total day calls', 'total day charge', 'total eve minutes',\n",
       "       'total eve calls', 'total eve charge', 'total night minutes',\n",
       "       'total night calls', 'total night charge', 'total intl minutes',\n",
       "       'total intl calls', 'total intl charge', 'customer service calls',\n",
       "       'churn'],\n",
       "      dtype='object')"
      ]
     },
     "execution_count": 3,
     "metadata": {},
     "output_type": "execute_result"
    }
   ],
   "source": [
    "# Inspecting the columnsr\n",
    "data.columns"
   ]
  },
  {
   "cell_type": "code",
   "execution_count": 4,
   "id": "0ceaed4e",
   "metadata": {},
   "outputs": [
    {
     "data": {
      "text/plain": [
       "account length              int64\n",
       "area code                   int64\n",
       "phone number               object\n",
       "international plan         object\n",
       "voice mail plan            object\n",
       "number vmail messages       int64\n",
       "total day minutes         float64\n",
       "total day calls             int64\n",
       "total day charge          float64\n",
       "total eve minutes         float64\n",
       "total eve calls             int64\n",
       "total eve charge          float64\n",
       "total night minutes       float64\n",
       "total night calls           int64\n",
       "total night charge        float64\n",
       "total intl minutes        float64\n",
       "total intl calls            int64\n",
       "total intl charge         float64\n",
       "customer service calls      int64\n",
       "churn                        bool\n",
       "dtype: object"
      ]
     },
     "execution_count": 4,
     "metadata": {},
     "output_type": "execute_result"
    }
   ],
   "source": [
    "# Inspecting the dataset\n",
    "data.dtypes"
   ]
  },
  {
   "cell_type": "code",
   "execution_count": 5,
   "id": "40baec2a",
   "metadata": {},
   "outputs": [
    {
     "name": "stdout",
     "output_type": "stream",
     "text": [
      "<class 'pandas.core.frame.DataFrame'>\n",
      "Index: 3333 entries, KS to TN\n",
      "Data columns (total 20 columns):\n",
      " #   Column                  Non-Null Count  Dtype  \n",
      "---  ------                  --------------  -----  \n",
      " 0   account length          3333 non-null   int64  \n",
      " 1   area code               3333 non-null   int64  \n",
      " 2   phone number            3333 non-null   object \n",
      " 3   international plan      3333 non-null   object \n",
      " 4   voice mail plan         3333 non-null   object \n",
      " 5   number vmail messages   3333 non-null   int64  \n",
      " 6   total day minutes       3333 non-null   float64\n",
      " 7   total day calls         3333 non-null   int64  \n",
      " 8   total day charge        3333 non-null   float64\n",
      " 9   total eve minutes       3333 non-null   float64\n",
      " 10  total eve calls         3333 non-null   int64  \n",
      " 11  total eve charge        3333 non-null   float64\n",
      " 12  total night minutes     3333 non-null   float64\n",
      " 13  total night calls       3333 non-null   int64  \n",
      " 14  total night charge      3333 non-null   float64\n",
      " 15  total intl minutes      3333 non-null   float64\n",
      " 16  total intl calls        3333 non-null   int64  \n",
      " 17  total intl charge       3333 non-null   float64\n",
      " 18  customer service calls  3333 non-null   int64  \n",
      " 19  churn                   3333 non-null   bool   \n",
      "dtypes: bool(1), float64(8), int64(8), object(3)\n",
      "memory usage: 524.0+ KB\n"
     ]
    }
   ],
   "source": [
    "# Inspectin the dataset\n",
    "data.info()"
   ]
  },
  {
   "cell_type": "code",
   "execution_count": 6,
   "id": "e6585de9",
   "metadata": {},
   "outputs": [
    {
     "data": {
      "text/html": [
       "<div>\n",
       "<style scoped>\n",
       "    .dataframe tbody tr th:only-of-type {\n",
       "        vertical-align: middle;\n",
       "    }\n",
       "\n",
       "    .dataframe tbody tr th {\n",
       "        vertical-align: top;\n",
       "    }\n",
       "\n",
       "    .dataframe thead th {\n",
       "        text-align: right;\n",
       "    }\n",
       "</style>\n",
       "<table border=\"1\" class=\"dataframe\">\n",
       "  <thead>\n",
       "    <tr style=\"text-align: right;\">\n",
       "      <th></th>\n",
       "      <th>account length</th>\n",
       "      <th>area code</th>\n",
       "      <th>number vmail messages</th>\n",
       "      <th>total day minutes</th>\n",
       "      <th>total day calls</th>\n",
       "      <th>total day charge</th>\n",
       "      <th>total eve minutes</th>\n",
       "      <th>total eve calls</th>\n",
       "      <th>total eve charge</th>\n",
       "      <th>total night minutes</th>\n",
       "      <th>total night calls</th>\n",
       "      <th>total night charge</th>\n",
       "      <th>total intl minutes</th>\n",
       "      <th>total intl calls</th>\n",
       "      <th>total intl charge</th>\n",
       "      <th>customer service calls</th>\n",
       "    </tr>\n",
       "  </thead>\n",
       "  <tbody>\n",
       "    <tr>\n",
       "      <th>count</th>\n",
       "      <td>3333.000000</td>\n",
       "      <td>3333.000000</td>\n",
       "      <td>3333.000000</td>\n",
       "      <td>3333.000000</td>\n",
       "      <td>3333.000000</td>\n",
       "      <td>3333.000000</td>\n",
       "      <td>3333.000000</td>\n",
       "      <td>3333.000000</td>\n",
       "      <td>3333.000000</td>\n",
       "      <td>3333.000000</td>\n",
       "      <td>3333.000000</td>\n",
       "      <td>3333.000000</td>\n",
       "      <td>3333.000000</td>\n",
       "      <td>3333.000000</td>\n",
       "      <td>3333.000000</td>\n",
       "      <td>3333.000000</td>\n",
       "    </tr>\n",
       "    <tr>\n",
       "      <th>mean</th>\n",
       "      <td>101.064806</td>\n",
       "      <td>437.182418</td>\n",
       "      <td>8.099010</td>\n",
       "      <td>179.775098</td>\n",
       "      <td>100.435644</td>\n",
       "      <td>30.562307</td>\n",
       "      <td>200.980348</td>\n",
       "      <td>100.114311</td>\n",
       "      <td>17.083540</td>\n",
       "      <td>200.872037</td>\n",
       "      <td>100.107711</td>\n",
       "      <td>9.039325</td>\n",
       "      <td>10.237294</td>\n",
       "      <td>4.479448</td>\n",
       "      <td>2.764581</td>\n",
       "      <td>1.562856</td>\n",
       "    </tr>\n",
       "    <tr>\n",
       "      <th>std</th>\n",
       "      <td>39.822106</td>\n",
       "      <td>42.371290</td>\n",
       "      <td>13.688365</td>\n",
       "      <td>54.467389</td>\n",
       "      <td>20.069084</td>\n",
       "      <td>9.259435</td>\n",
       "      <td>50.713844</td>\n",
       "      <td>19.922625</td>\n",
       "      <td>4.310668</td>\n",
       "      <td>50.573847</td>\n",
       "      <td>19.568609</td>\n",
       "      <td>2.275873</td>\n",
       "      <td>2.791840</td>\n",
       "      <td>2.461214</td>\n",
       "      <td>0.753773</td>\n",
       "      <td>1.315491</td>\n",
       "    </tr>\n",
       "    <tr>\n",
       "      <th>min</th>\n",
       "      <td>1.000000</td>\n",
       "      <td>408.000000</td>\n",
       "      <td>0.000000</td>\n",
       "      <td>0.000000</td>\n",
       "      <td>0.000000</td>\n",
       "      <td>0.000000</td>\n",
       "      <td>0.000000</td>\n",
       "      <td>0.000000</td>\n",
       "      <td>0.000000</td>\n",
       "      <td>23.200000</td>\n",
       "      <td>33.000000</td>\n",
       "      <td>1.040000</td>\n",
       "      <td>0.000000</td>\n",
       "      <td>0.000000</td>\n",
       "      <td>0.000000</td>\n",
       "      <td>0.000000</td>\n",
       "    </tr>\n",
       "    <tr>\n",
       "      <th>25%</th>\n",
       "      <td>74.000000</td>\n",
       "      <td>408.000000</td>\n",
       "      <td>0.000000</td>\n",
       "      <td>143.700000</td>\n",
       "      <td>87.000000</td>\n",
       "      <td>24.430000</td>\n",
       "      <td>166.600000</td>\n",
       "      <td>87.000000</td>\n",
       "      <td>14.160000</td>\n",
       "      <td>167.000000</td>\n",
       "      <td>87.000000</td>\n",
       "      <td>7.520000</td>\n",
       "      <td>8.500000</td>\n",
       "      <td>3.000000</td>\n",
       "      <td>2.300000</td>\n",
       "      <td>1.000000</td>\n",
       "    </tr>\n",
       "    <tr>\n",
       "      <th>50%</th>\n",
       "      <td>101.000000</td>\n",
       "      <td>415.000000</td>\n",
       "      <td>0.000000</td>\n",
       "      <td>179.400000</td>\n",
       "      <td>101.000000</td>\n",
       "      <td>30.500000</td>\n",
       "      <td>201.400000</td>\n",
       "      <td>100.000000</td>\n",
       "      <td>17.120000</td>\n",
       "      <td>201.200000</td>\n",
       "      <td>100.000000</td>\n",
       "      <td>9.050000</td>\n",
       "      <td>10.300000</td>\n",
       "      <td>4.000000</td>\n",
       "      <td>2.780000</td>\n",
       "      <td>1.000000</td>\n",
       "    </tr>\n",
       "    <tr>\n",
       "      <th>75%</th>\n",
       "      <td>127.000000</td>\n",
       "      <td>510.000000</td>\n",
       "      <td>20.000000</td>\n",
       "      <td>216.400000</td>\n",
       "      <td>114.000000</td>\n",
       "      <td>36.790000</td>\n",
       "      <td>235.300000</td>\n",
       "      <td>114.000000</td>\n",
       "      <td>20.000000</td>\n",
       "      <td>235.300000</td>\n",
       "      <td>113.000000</td>\n",
       "      <td>10.590000</td>\n",
       "      <td>12.100000</td>\n",
       "      <td>6.000000</td>\n",
       "      <td>3.270000</td>\n",
       "      <td>2.000000</td>\n",
       "    </tr>\n",
       "    <tr>\n",
       "      <th>max</th>\n",
       "      <td>243.000000</td>\n",
       "      <td>510.000000</td>\n",
       "      <td>51.000000</td>\n",
       "      <td>350.800000</td>\n",
       "      <td>165.000000</td>\n",
       "      <td>59.640000</td>\n",
       "      <td>363.700000</td>\n",
       "      <td>170.000000</td>\n",
       "      <td>30.910000</td>\n",
       "      <td>395.000000</td>\n",
       "      <td>175.000000</td>\n",
       "      <td>17.770000</td>\n",
       "      <td>20.000000</td>\n",
       "      <td>20.000000</td>\n",
       "      <td>5.400000</td>\n",
       "      <td>9.000000</td>\n",
       "    </tr>\n",
       "  </tbody>\n",
       "</table>\n",
       "</div>"
      ],
      "text/plain": [
       "       account length    area code  number vmail messages  total day minutes  \\\n",
       "count     3333.000000  3333.000000            3333.000000        3333.000000   \n",
       "mean       101.064806   437.182418               8.099010         179.775098   \n",
       "std         39.822106    42.371290              13.688365          54.467389   \n",
       "min          1.000000   408.000000               0.000000           0.000000   \n",
       "25%         74.000000   408.000000               0.000000         143.700000   \n",
       "50%        101.000000   415.000000               0.000000         179.400000   \n",
       "75%        127.000000   510.000000              20.000000         216.400000   \n",
       "max        243.000000   510.000000              51.000000         350.800000   \n",
       "\n",
       "       total day calls  total day charge  total eve minutes  total eve calls  \\\n",
       "count      3333.000000       3333.000000        3333.000000      3333.000000   \n",
       "mean        100.435644         30.562307         200.980348       100.114311   \n",
       "std          20.069084          9.259435          50.713844        19.922625   \n",
       "min           0.000000          0.000000           0.000000         0.000000   \n",
       "25%          87.000000         24.430000         166.600000        87.000000   \n",
       "50%         101.000000         30.500000         201.400000       100.000000   \n",
       "75%         114.000000         36.790000         235.300000       114.000000   \n",
       "max         165.000000         59.640000         363.700000       170.000000   \n",
       "\n",
       "       total eve charge  total night minutes  total night calls  \\\n",
       "count       3333.000000          3333.000000        3333.000000   \n",
       "mean          17.083540           200.872037         100.107711   \n",
       "std            4.310668            50.573847          19.568609   \n",
       "min            0.000000            23.200000          33.000000   \n",
       "25%           14.160000           167.000000          87.000000   \n",
       "50%           17.120000           201.200000         100.000000   \n",
       "75%           20.000000           235.300000         113.000000   \n",
       "max           30.910000           395.000000         175.000000   \n",
       "\n",
       "       total night charge  total intl minutes  total intl calls  \\\n",
       "count         3333.000000         3333.000000       3333.000000   \n",
       "mean             9.039325           10.237294          4.479448   \n",
       "std              2.275873            2.791840          2.461214   \n",
       "min              1.040000            0.000000          0.000000   \n",
       "25%              7.520000            8.500000          3.000000   \n",
       "50%              9.050000           10.300000          4.000000   \n",
       "75%             10.590000           12.100000          6.000000   \n",
       "max             17.770000           20.000000         20.000000   \n",
       "\n",
       "       total intl charge  customer service calls  \n",
       "count        3333.000000             3333.000000  \n",
       "mean            2.764581                1.562856  \n",
       "std             0.753773                1.315491  \n",
       "min             0.000000                0.000000  \n",
       "25%             2.300000                1.000000  \n",
       "50%             2.780000                1.000000  \n",
       "75%             3.270000                2.000000  \n",
       "max             5.400000                9.000000  "
      ]
     },
     "execution_count": 6,
     "metadata": {},
     "output_type": "execute_result"
    }
   ],
   "source": [
    "# Insecting the dataset\n",
    "data.describe()\n"
   ]
  },
  {
   "cell_type": "markdown",
   "id": "b0d40783",
   "metadata": {},
   "source": [
    "The dataset has sufficient records to support a robust modeling.\n",
    "Consists of 3,333 records and 20 columns. "
   ]
  },
  {
   "cell_type": "code",
   "execution_count": 7,
   "id": "d8d14251",
   "metadata": {},
   "outputs": [
    {
     "data": {
      "text/plain": [
       "account length            0\n",
       "area code                 0\n",
       "phone number              0\n",
       "international plan        0\n",
       "voice mail plan           0\n",
       "number vmail messages     0\n",
       "total day minutes         0\n",
       "total day calls           0\n",
       "total day charge          0\n",
       "total eve minutes         0\n",
       "total eve calls           0\n",
       "total eve charge          0\n",
       "total night minutes       0\n",
       "total night calls         0\n",
       "total night charge        0\n",
       "total intl minutes        0\n",
       "total intl calls          0\n",
       "total intl charge         0\n",
       "customer service calls    0\n",
       "churn                     0\n",
       "dtype: int64"
      ]
     },
     "execution_count": 7,
     "metadata": {},
     "output_type": "execute_result"
    }
   ],
   "source": [
    "# Checking for missing valuess\n",
    "data.isna().sum()"
   ]
  },
  {
   "cell_type": "markdown",
   "id": "f1bb4280",
   "metadata": {},
   "source": [
    "The dataset dosent seem to have any missing values. Quite a smooth start."
   ]
  },
  {
   "cell_type": "markdown",
   "id": "8c442bba",
   "metadata": {},
   "source": [
    "### Data Preparation"
   ]
  },
  {
   "cell_type": "code",
   "execution_count": 8,
   "id": "ddcf1bdd",
   "metadata": {},
   "outputs": [
    {
     "data": {
      "text/plain": [
       "np.int64(0)"
      ]
     },
     "execution_count": 8,
     "metadata": {},
     "output_type": "execute_result"
    }
   ],
   "source": [
    "# Checking for duplicates in our dataset\n",
    "data.duplicated().sum()"
   ]
  },
  {
   "cell_type": "markdown",
   "id": "8875590b",
   "metadata": {},
   "source": [
    "We dont seem to have any duplicates in our dataset."
   ]
  },
  {
   "cell_type": "code",
   "execution_count": 9,
   "id": "512fa58d",
   "metadata": {},
   "outputs": [
    {
     "name": "stdout",
     "output_type": "stream",
     "text": [
      "Inconsistent voicemail entries: 0\n"
     ]
    }
   ],
   "source": [
    "# Logical consistency: Voicemail messages\n",
    "inconsistent_vmail = data[(data['voice mail plan'] == 'no') & (data['number vmail messages'] > 0)]\n",
    "print(f\"Inconsistent voicemail entries: {len(inconsistent_vmail)}\")"
   ]
  },
  {
   "cell_type": "markdown",
   "id": "9cb00ed1",
   "metadata": {},
   "source": [
    "This shows voicemail messages are consistent"
   ]
  },
  {
   "cell_type": "code",
   "execution_count": 10,
   "id": "0c5ac65b",
   "metadata": {},
   "outputs": [
    {
     "name": "stdout",
     "output_type": "stream",
     "text": [
      "international plan\n",
      "no     30.412495\n",
      "yes    31.958390\n",
      "Name: total day charge, dtype: float64\n"
     ]
    }
   ],
   "source": [
    "# Checking for international pricing \n",
    "print(data.groupby('international plan')['total day charge'].mean())"
   ]
  },
  {
   "cell_type": "code",
   "execution_count": 11,
   "id": "ef46057c",
   "metadata": {},
   "outputs": [
    {
     "data": {
      "text/html": [
       "<div>\n",
       "<style scoped>\n",
       "    .dataframe tbody tr th:only-of-type {\n",
       "        vertical-align: middle;\n",
       "    }\n",
       "\n",
       "    .dataframe tbody tr th {\n",
       "        vertical-align: top;\n",
       "    }\n",
       "\n",
       "    .dataframe thead th {\n",
       "        text-align: right;\n",
       "    }\n",
       "</style>\n",
       "<table border=\"1\" class=\"dataframe\">\n",
       "  <thead>\n",
       "    <tr style=\"text-align: right;\">\n",
       "      <th></th>\n",
       "      <th>state</th>\n",
       "      <th>account length</th>\n",
       "      <th>area code</th>\n",
       "      <th>phone number</th>\n",
       "      <th>international plan</th>\n",
       "      <th>voice mail plan</th>\n",
       "      <th>number vmail messages</th>\n",
       "      <th>total day minutes</th>\n",
       "      <th>total day calls</th>\n",
       "      <th>total day charge</th>\n",
       "      <th>...</th>\n",
       "      <th>total eve calls</th>\n",
       "      <th>total eve charge</th>\n",
       "      <th>total night minutes</th>\n",
       "      <th>total night calls</th>\n",
       "      <th>total night charge</th>\n",
       "      <th>total intl minutes</th>\n",
       "      <th>total intl calls</th>\n",
       "      <th>total intl charge</th>\n",
       "      <th>customer service calls</th>\n",
       "      <th>churn</th>\n",
       "    </tr>\n",
       "  </thead>\n",
       "  <tbody>\n",
       "    <tr>\n",
       "      <th>0</th>\n",
       "      <td>KS</td>\n",
       "      <td>128</td>\n",
       "      <td>415</td>\n",
       "      <td>382-4657</td>\n",
       "      <td>no</td>\n",
       "      <td>yes</td>\n",
       "      <td>25</td>\n",
       "      <td>265.1</td>\n",
       "      <td>110</td>\n",
       "      <td>45.07</td>\n",
       "      <td>...</td>\n",
       "      <td>99</td>\n",
       "      <td>16.78</td>\n",
       "      <td>244.7</td>\n",
       "      <td>91</td>\n",
       "      <td>11.01</td>\n",
       "      <td>10.0</td>\n",
       "      <td>3</td>\n",
       "      <td>2.70</td>\n",
       "      <td>1</td>\n",
       "      <td>False</td>\n",
       "    </tr>\n",
       "    <tr>\n",
       "      <th>1</th>\n",
       "      <td>OH</td>\n",
       "      <td>107</td>\n",
       "      <td>415</td>\n",
       "      <td>371-7191</td>\n",
       "      <td>no</td>\n",
       "      <td>yes</td>\n",
       "      <td>26</td>\n",
       "      <td>161.6</td>\n",
       "      <td>123</td>\n",
       "      <td>27.47</td>\n",
       "      <td>...</td>\n",
       "      <td>103</td>\n",
       "      <td>16.62</td>\n",
       "      <td>254.4</td>\n",
       "      <td>103</td>\n",
       "      <td>11.45</td>\n",
       "      <td>13.7</td>\n",
       "      <td>3</td>\n",
       "      <td>3.70</td>\n",
       "      <td>1</td>\n",
       "      <td>False</td>\n",
       "    </tr>\n",
       "    <tr>\n",
       "      <th>2</th>\n",
       "      <td>NJ</td>\n",
       "      <td>137</td>\n",
       "      <td>415</td>\n",
       "      <td>358-1921</td>\n",
       "      <td>no</td>\n",
       "      <td>no</td>\n",
       "      <td>0</td>\n",
       "      <td>243.4</td>\n",
       "      <td>114</td>\n",
       "      <td>41.38</td>\n",
       "      <td>...</td>\n",
       "      <td>110</td>\n",
       "      <td>10.30</td>\n",
       "      <td>162.6</td>\n",
       "      <td>104</td>\n",
       "      <td>7.32</td>\n",
       "      <td>12.2</td>\n",
       "      <td>5</td>\n",
       "      <td>3.29</td>\n",
       "      <td>0</td>\n",
       "      <td>False</td>\n",
       "    </tr>\n",
       "    <tr>\n",
       "      <th>3</th>\n",
       "      <td>OH</td>\n",
       "      <td>84</td>\n",
       "      <td>408</td>\n",
       "      <td>375-9999</td>\n",
       "      <td>yes</td>\n",
       "      <td>no</td>\n",
       "      <td>0</td>\n",
       "      <td>299.4</td>\n",
       "      <td>71</td>\n",
       "      <td>50.90</td>\n",
       "      <td>...</td>\n",
       "      <td>88</td>\n",
       "      <td>5.26</td>\n",
       "      <td>196.9</td>\n",
       "      <td>89</td>\n",
       "      <td>8.86</td>\n",
       "      <td>6.6</td>\n",
       "      <td>7</td>\n",
       "      <td>1.78</td>\n",
       "      <td>2</td>\n",
       "      <td>False</td>\n",
       "    </tr>\n",
       "    <tr>\n",
       "      <th>4</th>\n",
       "      <td>OK</td>\n",
       "      <td>75</td>\n",
       "      <td>415</td>\n",
       "      <td>330-6626</td>\n",
       "      <td>yes</td>\n",
       "      <td>no</td>\n",
       "      <td>0</td>\n",
       "      <td>166.7</td>\n",
       "      <td>113</td>\n",
       "      <td>28.34</td>\n",
       "      <td>...</td>\n",
       "      <td>122</td>\n",
       "      <td>12.61</td>\n",
       "      <td>186.9</td>\n",
       "      <td>121</td>\n",
       "      <td>8.41</td>\n",
       "      <td>10.1</td>\n",
       "      <td>3</td>\n",
       "      <td>2.73</td>\n",
       "      <td>3</td>\n",
       "      <td>False</td>\n",
       "    </tr>\n",
       "  </tbody>\n",
       "</table>\n",
       "<p>5 rows × 21 columns</p>\n",
       "</div>"
      ],
      "text/plain": [
       "  state  account length  area code phone number international plan  \\\n",
       "0    KS             128        415     382-4657                 no   \n",
       "1    OH             107        415     371-7191                 no   \n",
       "2    NJ             137        415     358-1921                 no   \n",
       "3    OH              84        408     375-9999                yes   \n",
       "4    OK              75        415     330-6626                yes   \n",
       "\n",
       "  voice mail plan  number vmail messages  total day minutes  total day calls  \\\n",
       "0             yes                     25              265.1              110   \n",
       "1             yes                     26              161.6              123   \n",
       "2              no                      0              243.4              114   \n",
       "3              no                      0              299.4               71   \n",
       "4              no                      0              166.7              113   \n",
       "\n",
       "   total day charge  ...  total eve calls  total eve charge  \\\n",
       "0             45.07  ...               99             16.78   \n",
       "1             27.47  ...              103             16.62   \n",
       "2             41.38  ...              110             10.30   \n",
       "3             50.90  ...               88              5.26   \n",
       "4             28.34  ...              122             12.61   \n",
       "\n",
       "   total night minutes  total night calls  total night charge  \\\n",
       "0                244.7                 91               11.01   \n",
       "1                254.4                103               11.45   \n",
       "2                162.6                104                7.32   \n",
       "3                196.9                 89                8.86   \n",
       "4                186.9                121                8.41   \n",
       "\n",
       "   total intl minutes  total intl calls  total intl charge  \\\n",
       "0                10.0                 3               2.70   \n",
       "1                13.7                 3               3.70   \n",
       "2                12.2                 5               3.29   \n",
       "3                 6.6                 7               1.78   \n",
       "4                10.1                 3               2.73   \n",
       "\n",
       "   customer service calls  churn  \n",
       "0                       1  False  \n",
       "1                       1  False  \n",
       "2                       0  False  \n",
       "3                       2  False  \n",
       "4                       3  False  \n",
       "\n",
       "[5 rows x 21 columns]"
      ]
     },
     "execution_count": 11,
     "metadata": {},
     "output_type": "execute_result"
    }
   ],
   "source": [
    "# Checking for consistency in our dataset\n",
    "data = data.reset_index()\n",
    "data.head()"
   ]
  },
  {
   "cell_type": "code",
   "execution_count": 12,
   "id": "76ba1b26",
   "metadata": {},
   "outputs": [
    {
     "data": {
      "text/plain": [
       "international plan\n",
       "no     3010\n",
       "yes     323\n",
       "Name: count, dtype: int64"
      ]
     },
     "execution_count": 12,
     "metadata": {},
     "output_type": "execute_result"
    }
   ],
   "source": [
    "# Assessing the dataset  \n",
    "data['international plan'].value_counts()\n",
    "\n"
   ]
  },
  {
   "cell_type": "code",
   "execution_count": 13,
   "id": "bd7ccdca",
   "metadata": {},
   "outputs": [
    {
     "data": {
      "text/plain": [
       "0    382-4657\n",
       "1    371-7191\n",
       "2    358-1921\n",
       "3    375-9999\n",
       "4    330-6626\n",
       "Name: phone number, dtype: object"
      ]
     },
     "execution_count": 13,
     "metadata": {},
     "output_type": "execute_result"
    }
   ],
   "source": [
    "# Checking for format in the dataset\n",
    "data['phone number'].head()      \n"
   ]
  },
  {
   "cell_type": "code",
   "execution_count": 14,
   "id": "35e8744e",
   "metadata": {},
   "outputs": [
    {
     "data": {
      "text/plain": [
       "voice mail plan\n",
       "no     2411\n",
       "yes     922\n",
       "Name: count, dtype: int64"
      ]
     },
     "execution_count": 14,
     "metadata": {},
     "output_type": "execute_result"
    }
   ],
   "source": [
    "# Assessing dataset\n",
    "data['voice mail plan'].value_counts()"
   ]
  },
  {
   "cell_type": "code",
   "execution_count": 15,
   "id": "02e6dabb",
   "metadata": {},
   "outputs": [
    {
     "data": {
      "text/plain": [
       "state\n",
       "HI    0.056604\n",
       "AK    0.057692\n",
       "AZ    0.062500\n",
       "VA    0.064935\n",
       "IA    0.068182\n",
       "LA    0.078431\n",
       "NE    0.081967\n",
       "IL    0.086207\n",
       "WI    0.089744\n",
       "RI    0.092308\n",
       "DC    0.092593\n",
       "TN    0.094340\n",
       "WV    0.094340\n",
       "NM    0.096774\n",
       "ND    0.096774\n",
       "AL    0.100000\n",
       "VT    0.109589\n",
       "MO    0.111111\n",
       "WY    0.116883\n",
       "ID    0.123288\n",
       "IN    0.126761\n",
       "FL    0.126984\n",
       "OH    0.128205\n",
       "SD    0.133333\n",
       "KY    0.135593\n",
       "CO    0.136364\n",
       "UT    0.138889\n",
       "OR    0.141026\n",
       "OK    0.147541\n",
       "DE    0.147541\n",
       "GA    0.148148\n",
       "NH    0.160714\n",
       "NC    0.161765\n",
       "CT    0.162162\n",
       "MA    0.169231\n",
       "PA    0.177778\n",
       "MN    0.178571\n",
       "NY    0.180723\n",
       "KS    0.185714\n",
       "AR    0.200000\n",
       "MT    0.205882\n",
       "ME    0.209677\n",
       "WA    0.212121\n",
       "NV    0.212121\n",
       "MS    0.215385\n",
       "MI    0.219178\n",
       "SC    0.233333\n",
       "MD    0.242857\n",
       "TX    0.250000\n",
       "NJ    0.264706\n",
       "CA    0.264706\n",
       "Name: churn, dtype: float64"
      ]
     },
     "execution_count": 15,
     "metadata": {},
     "output_type": "execute_result"
    }
   ],
   "source": [
    "# Assessing whether state would be useful in our prediction \n",
    "data.groupby(\"state\")[\"churn\"].mean().sort_values()\n"
   ]
  },
  {
   "cell_type": "code",
   "execution_count": 34,
   "id": "a9c0292e",
   "metadata": {},
   "outputs": [
    {
     "data": {
      "text/html": [
       "<div>\n",
       "<style scoped>\n",
       "    .dataframe tbody tr th:only-of-type {\n",
       "        vertical-align: middle;\n",
       "    }\n",
       "\n",
       "    .dataframe tbody tr th {\n",
       "        vertical-align: top;\n",
       "    }\n",
       "\n",
       "    .dataframe thead th {\n",
       "        text-align: right;\n",
       "    }\n",
       "</style>\n",
       "<table border=\"1\" class=\"dataframe\">\n",
       "  <thead>\n",
       "    <tr style=\"text-align: right;\">\n",
       "      <th></th>\n",
       "      <th>state</th>\n",
       "      <th>account length</th>\n",
       "      <th>area code</th>\n",
       "      <th>phone number</th>\n",
       "      <th>international plan</th>\n",
       "      <th>voice mail plan</th>\n",
       "      <th>number vmail messages</th>\n",
       "      <th>total day minutes</th>\n",
       "      <th>total day calls</th>\n",
       "      <th>total day charge</th>\n",
       "      <th>...</th>\n",
       "      <th>total eve charge</th>\n",
       "      <th>total night minutes</th>\n",
       "      <th>total night calls</th>\n",
       "      <th>total night charge</th>\n",
       "      <th>total intl minutes</th>\n",
       "      <th>total intl calls</th>\n",
       "      <th>total intl charge</th>\n",
       "      <th>customer service calls</th>\n",
       "      <th>churn</th>\n",
       "      <th>churn_num</th>\n",
       "    </tr>\n",
       "  </thead>\n",
       "  <tbody>\n",
       "    <tr>\n",
       "      <th>0</th>\n",
       "      <td>KS</td>\n",
       "      <td>128</td>\n",
       "      <td>415</td>\n",
       "      <td>382-4657</td>\n",
       "      <td>0</td>\n",
       "      <td>1</td>\n",
       "      <td>25</td>\n",
       "      <td>265.1</td>\n",
       "      <td>110</td>\n",
       "      <td>45.07</td>\n",
       "      <td>...</td>\n",
       "      <td>16.78</td>\n",
       "      <td>244.7</td>\n",
       "      <td>91</td>\n",
       "      <td>11.01</td>\n",
       "      <td>10.0</td>\n",
       "      <td>3</td>\n",
       "      <td>2.7</td>\n",
       "      <td>1</td>\n",
       "      <td>0</td>\n",
       "      <td>0</td>\n",
       "    </tr>\n",
       "    <tr>\n",
       "      <th>1</th>\n",
       "      <td>OH</td>\n",
       "      <td>107</td>\n",
       "      <td>415</td>\n",
       "      <td>371-7191</td>\n",
       "      <td>0</td>\n",
       "      <td>1</td>\n",
       "      <td>26</td>\n",
       "      <td>161.6</td>\n",
       "      <td>123</td>\n",
       "      <td>27.47</td>\n",
       "      <td>...</td>\n",
       "      <td>16.62</td>\n",
       "      <td>254.4</td>\n",
       "      <td>103</td>\n",
       "      <td>11.45</td>\n",
       "      <td>13.7</td>\n",
       "      <td>3</td>\n",
       "      <td>3.7</td>\n",
       "      <td>1</td>\n",
       "      <td>0</td>\n",
       "      <td>0</td>\n",
       "    </tr>\n",
       "  </tbody>\n",
       "</table>\n",
       "<p>2 rows × 22 columns</p>\n",
       "</div>"
      ],
      "text/plain": [
       "  state  account length  area code phone number  international plan  \\\n",
       "0    KS             128        415     382-4657                   0   \n",
       "1    OH             107        415     371-7191                   0   \n",
       "\n",
       "   voice mail plan  number vmail messages  total day minutes  total day calls  \\\n",
       "0                1                     25              265.1              110   \n",
       "1                1                     26              161.6              123   \n",
       "\n",
       "   total day charge  ...  total eve charge  total night minutes  \\\n",
       "0             45.07  ...             16.78                244.7   \n",
       "1             27.47  ...             16.62                254.4   \n",
       "\n",
       "   total night calls  total night charge  total intl minutes  \\\n",
       "0                 91               11.01                10.0   \n",
       "1                103               11.45                13.7   \n",
       "\n",
       "   total intl calls  total intl charge  customer service calls  churn  \\\n",
       "0                 3                2.7                       1      0   \n",
       "1                 3                3.7                       1      0   \n",
       "\n",
       "   churn_num  \n",
       "0          0  \n",
       "1          0  \n",
       "\n",
       "[2 rows x 22 columns]"
      ]
     },
     "execution_count": 34,
     "metadata": {},
     "output_type": "execute_result"
    }
   ],
   "source": [
    "# Dealing with categorical columns\n",
    "cols_to_convert=['international plan','voice mail plan']\n",
    "df[cols_to_convert]=df[cols_to_convert].replace({'yes':1, 'no':0})\n",
    "df.head(2)"
   ]
  },
  {
   "cell_type": "markdown",
   "id": "74e83e6c",
   "metadata": {},
   "source": [
    "#### Summary\n",
    "The dataset is clean and ready for preprocessig."
   ]
  },
  {
   "cell_type": "markdown",
   "id": "2387e7e0",
   "metadata": {},
   "source": [
    "### Exploratory Data Analysis"
   ]
  },
  {
   "cell_type": "code",
   "execution_count": null,
   "id": "091b40de",
   "metadata": {},
   "outputs": [
    {
     "name": "stdout",
     "output_type": "stream",
     "text": [
      "Baseline churn rate: 14.49%  (n=3333)\n"
     ]
    }
   ],
   "source": [
    "# Make sure target is 0/1\n",
    "data['churn'].astype(int)\n",
    "\n",
    "df = data.copy()\n",
    "\n",
    "df['churn_num'] = df['churn'].astype(int)\n",
    "\n",
    "# identifying the baseline for churning\n",
    "baseline = df['churn_num'].mean()\n",
    "print(f\"Baseline churn rate: {baseline:.2%}  (n={len(df)})\")\n",
    "\n",
    "# categorical signals risk ratios\n",
    "def churn_rate_by(cat):\n",
    "    out = (df.groupby(cat)['churn_num']\n",
    "             .agg(['mean','count'])\n",
    "             .rename(columns={'mean':'churn_rate','count':'n'})\n",
    "             .sort_values('churn_rate', ascending=False))\n",
    "    return out\n",
    "\n",
    "def risk_ratio(cat, positive_value):\n",
    "    # RR = churn_rate(positive) / churn_rate(negative)\n",
    "    a = df.loc[df[cat]==positive_value, 'churn_num'].mean()\n",
    "    b = df.loc[df[cat]!=positive_value, 'churn_num'].mean()\n",
    "    return a/b if b>0 else np.nan\n"
   ]
  },
  {
   "cell_type": "code",
   "execution_count": 18,
   "id": "57ec3cb1",
   "metadata": {},
   "outputs": [
    {
     "data": {
      "image/png": "[encoded data removed]",
      "text/plain": [
       "<Figure size 640x480 with 1 Axes>"
      ]
     },
     "metadata": {},
     "output_type": "display_data"
    }
   ],
   "source": [
    " # Visualization churn rate by number of customer service calls\n",
    "calls_tbl = (df.groupby('customer service calls')['churn_num']\n",
    "               .mean()\n",
    "               .rename('churn_rate'))\n",
    "ax = calls_tbl.plot(kind='bar')\n",
    "ax.set_title('Churn rate by number of customer service calls')\n",
    "ax.set_ylabel('Churn rate')\n",
    "ax.set_xlabel('Customer service calls')\n",
    "plt.show()"
   ]
  },
  {
   "cell_type": "markdown",
   "id": "244fb453",
   "metadata": {},
   "source": [
    "From the above its evident that frequent customer service calls increases the rate of churning. 9 in this case is the most service called and its leading with churn rate. Here, the a precaution should be taken to fix the underlying issue related to that section of the organization, to avoid frequent calls from customers reporting an issue with the service."
   ]
  },
  {
   "cell_type": "code",
   "execution_count": 19,
   "id": "628d7e74",
   "metadata": {},
   "outputs": [
    {
     "data": {
      "image/png": "[encoded data removed]",
      "text/plain": [
       "<Figure size 640x480 with 1 Axes>"
      ]
     },
     "metadata": {},
     "output_type": "display_data"
    }
   ],
   "source": [
    "#  Visualization churn rate by International Plan\n",
    "intl_tbl = churn_rate_by('international plan').reset_index()\n",
    "ax = plt.figure().gca()\n",
    "ax.bar(intl_tbl['international plan'].astype(str), intl_tbl['churn_rate'])\n",
    "ax.set_title('Churn rate by International Plan')\n",
    "ax.set_ylabel('Churn rate'); ax.set_xlabel('International plan')\n",
    "plt.show()"
   ]
  },
  {
   "cell_type": "markdown",
   "id": "ccb75709",
   "metadata": {},
   "source": [
    "The above shows that customers with an international plan seem to churn more as compared to those without the plan. So there is a likelyhood of an underlying issue in terms of strategic planning. The company should devise a way to on how to handle international plan without losing customers."
   ]
  },
  {
   "cell_type": "code",
   "execution_count": 20,
   "id": "1b19a7d8",
   "metadata": {},
   "outputs": [
    {
     "data": {
      "image/png": "[encoded data removed]",
      "text/plain": [
       "<Figure size 640x480 with 1 Axes>"
      ]
     },
     "metadata": {},
     "output_type": "display_data"
    }
   ],
   "source": [
    "# Visualization churn rate by Voice Mail Plan\n",
    "vm_tbl = churn_rate_by('voice mail plan').reset_index()\n",
    "ax = plt.figure().gca()\n",
    "ax.bar(vm_tbl['voice mail plan'].astype(str), vm_tbl['churn_rate'])\n",
    "ax.set_title('Churn rate by Voice Mail Plan')\n",
    "ax.set_ylabel('Churn rate'); ax.set_xlabel('Voice mail plan')\n",
    "plt.show()"
   ]
  },
  {
   "cell_type": "markdown",
   "id": "2dd23c84",
   "metadata": {},
   "source": [
    "The observation made from the above clearly shows that customers with no Voice mail plan churn more compared to those with the plan. In this case, its advisable for the company to invest on the plan to avoid this behavior in the future."
   ]
  },
  {
   "cell_type": "code",
   "execution_count": 21,
   "id": "087d713c",
   "metadata": {},
   "outputs": [
    {
     "name": "stderr",
     "output_type": "stream",
     "text": [
      "/tmp/ipykernel_19316/4055975930.py:4: FutureWarning: The default of observed=False is deprecated and will be changed to True in a future version of pandas. Pass observed=False to retain current behavior or observed=True to adopt the future default and silence this warning.\n",
      "  tbl = df.groupby(b)['churn_num'].mean()\n",
      "/tmp/ipykernel_19316/4055975930.py:4: FutureWarning: The default of observed=False is deprecated and will be changed to True in a future version of pandas. Pass observed=False to retain current behavior or observed=True to adopt the future default and silence this warning.\n",
      "  tbl = df.groupby(b)['churn_num'].mean()\n"
     ]
    },
    {
     "data": {
      "image/png": "[encoded data removed]",
      "text/plain": [
       "<Figure size 640x480 with 1 Axes>"
      ]
     },
     "metadata": {},
     "output_type": "display_data"
    }
   ],
   "source": [
    "# are high charges linked to churn? (bining by quintiles)\n",
    "def plot_binned_churn(col, q=5):\n",
    "    b = pd.qcut(df[col], q=q, duplicates='drop')\n",
    "    tbl = df.groupby(b)['churn_num'].mean()\n",
    "    ax = tbl.plot(kind='bar')\n",
    "    ax.set_title(f'Churn rate by {col} quintiles (low to high)')\n",
    "    ax.set_ylabel('Churn rate'); ax.set_xlabel(col)\n",
    "    return tbl\n",
    "\n",
    "bins_day = plot_binned_churn('total day charge', q=5)\n",
    "bins_intl = plot_binned_churn('total intl charge', q=5)"
   ]
  },
  {
   "cell_type": "markdown",
   "id": "51aa2dcb",
   "metadata": {},
   "source": [
    "The above shows that high bailing charges increases the chances of customer churning. The 5th quintile has the highest charges and hence the high rate of churning. The company should consider moderating their charges to range from low to medium."
   ]
  },
  {
   "cell_type": "code",
   "execution_count": 22,
   "id": "532e8c4a",
   "metadata": {},
   "outputs": [
    {
     "data": {
      "image/png": "[encoded data removed]",
      "text/plain": [
       "<Figure size 800x600 with 1 Axes>"
      ]
     },
     "metadata": {},
     "output_type": "display_data"
    }
   ],
   "source": [
    "\n",
    "plt.figure(figsize=(8,6))\n",
    "sns.barplot(\n",
    "    data=df,\n",
    "    x=\"customer service calls\",\n",
    "    y=\"churn_num\",\n",
    "    hue=\"international plan\",\n",
    "    estimator=\"mean\"\n",
    ")\n",
    "plt.title(\"Churn rate by Customer Service Calls and International Plan\")\n",
    "plt.ylabel(\"Churn Rate\")\n",
    "plt.xlabel(\"Customer Service Calls\")\n",
    "plt.legend(title=\"International Plan\")\n",
    "plt.show()"
   ]
  },
  {
   "cell_type": "code",
   "execution_count": 23,
   "id": "5ca4ded8",
   "metadata": {},
   "outputs": [
    {
     "data": {
      "image/png": "[encoded data removed]",
      "text/plain": [
       "<Figure size 800x600 with 1 Axes>"
      ]
     },
     "metadata": {},
     "output_type": "display_data"
    }
   ],
   "source": [
    "plt.figure(figsize=(8,6))\n",
    "sns.histplot(\n",
    "    data=df,\n",
    "    x=\"account length\",\n",
    "    hue=\"churn\",\n",
    "    stat=\"density\",\n",
    "    common_norm=False,\n",
    "    bins=20,\n",
    "    alpha=0.6\n",
    ")\n",
    "plt.title(\"Account Length Distribution: Churned vs Non-Churned Customers\")\n",
    "plt.xlabel(\"Account Length (Tenure)\")\n",
    "plt.ylabel(\"Density\")\n",
    "plt.show()\n"
   ]
  },
  {
   "cell_type": "markdown",
   "id": "30071127",
   "metadata": {},
   "source": [
    "This shows normal distribution of churning and not churning across account length. This indicates that account lenth is not a factor, rather syriatel can focus on other contributing factors to customer churn."
   ]
  },
  {
   "cell_type": "markdown",
   "id": "816fd589",
   "metadata": {},
   "source": [
    "Below is a random forest for predicting the churn. It helps us with plotting the future importance. This tells management why those groups churn, so interventions can be justified."
   ]
  },
  {
   "cell_type": "code",
   "execution_count": 24,
   "id": "05529c22",
   "metadata": {},
   "outputs": [
    {
     "name": "stderr",
     "output_type": "stream",
     "text": [
      "/tmp/ipykernel_19316/2399354208.py:26: FutureWarning: \n",
      "\n",
      "Passing `palette` without assigning `hue` is deprecated and will be removed in v0.14.0. Assign the `y` variable to `hue` and set `legend=False` for the same effect.\n",
      "\n",
      "  sns.barplot(data=importances, x='importance', y='feature', palette='viridis')\n"
     ]
    },
    {
     "data": {
      "image/png": "[encoded data removed]",
      "text/plain": [
       "<Figure size 800x600 with 1 Axes>"
      ]
     },
     "metadata": {},
     "output_type": "display_data"
    }
   ],
   "source": [
    "from sklearn.preprocessing import OneHotEncoder\n",
    "from sklearn.ensemble import RandomForestClassifier\n",
    "\n",
    "# Copy dataset\n",
    "X = df.drop(columns=['churn','churn_num','phone number','account length'])\n",
    "y = df['churn_num']\n",
    "\n",
    "# Encode categorical features\n",
    "X = X.copy()\n",
    "for col in X.select_dtypes(include='object').columns:\n",
    "    ohe = OneHotEncoder(sparse_output=False, drop='first')\n",
    "    X[col] = ohe.fit_transform(X[[col]])\n",
    "\n",
    "# Train Random Forest\n",
    "rf = RandomForestClassifier(n_estimators=200, random_state=42, class_weight='balanced')\n",
    "rf.fit(X, y)\n",
    "\n",
    "# Feature importance\n",
    "importances = pd.DataFrame({\n",
    "    'feature': X.columns,\n",
    "    'importance': rf.feature_importances_\n",
    "}).sort_values('importance', ascending=True)\n",
    "\n",
    "# Plot\n",
    "plt.figure(figsize=(8,6))\n",
    "sns.barplot(data=importances, x='importance', y='feature', palette='viridis')\n",
    "plt.title(\"Feature Importance for Churn Prediction (Random Forest)\")\n",
    "plt.xlabel(\"Importance\")\n",
    "plt.ylabel(\"Feature\")\n",
    "plt.show()\n"
   ]
  },
  {
   "cell_type": "markdown",
   "id": "acaa5b7b",
   "metadata": {},
   "source": [
    "Customer service performance is the strongest churn signal - improving this can directly reduce churn.\n",
    "\n",
    "High-usage customers (especially daytime callers) are at risk - need targeted retention offers.\n",
    "\n",
    "International plan users are sensitive - better international packages could keep them loyal.\n",
    "\n",
    "Voicemail and state-level differences don’t matter much - no need to allocate marketing budget here."
   ]
  },
  {
   "cell_type": "code",
   "execution_count": 27,
   "id": "270a9ce9",
   "metadata": {},
   "outputs": [
    {
     "data": {
      "image/png": "[encoded data removed]",
      "text/plain": [
       "<Figure size 1200x800 with 1 Axes>"
      ]
     },
     "metadata": {},
     "output_type": "display_data"
    }
   ],
   "source": [
    "cont_vars = ['account length','total day minutes','total day charge',\n",
    "             'total eve minutes','total eve charge',\n",
    "             'total night minutes','total night charge',\n",
    "             'total intl minutes','total intl charge',\n",
    "             'customer service calls']\n",
    "\n",
    "plt.figure(figsize=(12,8))\n",
    "sns.boxplot(data=df[cont_vars], orient=\"h\")\n",
    "plt.title(\"Boxplots of Continuous Features - Outlier Detection\")\n",
    "plt.show()\n"
   ]
  },
  {
   "cell_type": "markdown",
   "id": "b2b20506",
   "metadata": {},
   "source": [
    "Validating the outliers.\n",
    "Deciding to keep the outliers since they might have valuable insight. We'll be applying log tranformation to reduce the effect."
   ]
  },
  {
   "cell_type": "code",
   "execution_count": null,
   "id": "c343f5a8",
   "metadata": {},
   "outputs": [],
   "source": [
    "\n",
    "# ========= STEP 5 (optional quick check): tiny interpretable tree for interactions =========\n",
    "# If scikit-learn is available, uncomment to see a simple, human-size tree.\n",
    "# from sklearn.tree import DecisionTreeClassifier, plot_tree\n",
    "# X = df[num_cols + cat_cols].copy()\n",
    "# # Encode the 2 categorical plans as 0/1\n",
    "# for c in cat_cols:\n",
    "#     X[c] = (X[c].astype(str).str.lower().isin(['yes','true'])).astype(int)\n",
    "# clf = DecisionTreeClassifier(max_depth=3, min_samples_leaf=50, class_weight='balanced', random_state=0)\n",
    "# clf.fit(X, y)\n",
    "# plt.figure(figsize=(14,6))\n",
    "# plot_tree(clf, feature_names=X.columns, class_names=['No churn','Churn'], filled=True, impurity=False)\n",
    "# plt.show()"
   ]
  },
  {
   "cell_type": "markdown",
   "id": "b15419f3",
   "metadata": {},
   "source": [
    "##### Assumptions check"
   ]
  },
  {
   "cell_type": "code",
   "execution_count": null,
   "id": "fa158033",
   "metadata": {},
   "outputs": [
    {
     "data": {
      "text/plain": [
       "churn\n",
       "False    2850\n",
       "True      483\n",
       "Name: count, dtype: int64"
      ]
     },
     "execution_count": 28,
     "metadata": {},
     "output_type": "execute_result"
    }
   ],
   "source": [
    "# Assessing whether the target has a binary outcome\n",
    "df['churn'].value_counts()"
   ]
  },
  {
   "cell_type": "code",
   "execution_count": 30,
   "id": "80d156bb",
   "metadata": {},
   "outputs": [
    {
     "data": {
      "text/html": [
       "<div>\n",
       "<style scoped>\n",
       "    .dataframe tbody tr th:only-of-type {\n",
       "        vertical-align: middle;\n",
       "    }\n",
       "\n",
       "    .dataframe tbody tr th {\n",
       "        vertical-align: top;\n",
       "    }\n",
       "\n",
       "    .dataframe thead th {\n",
       "        text-align: right;\n",
       "    }\n",
       "</style>\n",
       "<table border=\"1\" class=\"dataframe\">\n",
       "  <thead>\n",
       "    <tr style=\"text-align: right;\">\n",
       "      <th></th>\n",
       "      <th>state</th>\n",
       "      <th>account length</th>\n",
       "      <th>area code</th>\n",
       "      <th>phone number</th>\n",
       "      <th>international plan</th>\n",
       "      <th>voice mail plan</th>\n",
       "      <th>number vmail messages</th>\n",
       "      <th>total day minutes</th>\n",
       "      <th>total day calls</th>\n",
       "      <th>total day charge</th>\n",
       "      <th>...</th>\n",
       "      <th>total eve charge</th>\n",
       "      <th>total night minutes</th>\n",
       "      <th>total night calls</th>\n",
       "      <th>total night charge</th>\n",
       "      <th>total intl minutes</th>\n",
       "      <th>total intl calls</th>\n",
       "      <th>total intl charge</th>\n",
       "      <th>customer service calls</th>\n",
       "      <th>churn</th>\n",
       "      <th>churn_num</th>\n",
       "    </tr>\n",
       "  </thead>\n",
       "  <tbody>\n",
       "    <tr>\n",
       "      <th>0</th>\n",
       "      <td>KS</td>\n",
       "      <td>128</td>\n",
       "      <td>415</td>\n",
       "      <td>382-4657</td>\n",
       "      <td>no</td>\n",
       "      <td>yes</td>\n",
       "      <td>25</td>\n",
       "      <td>265.1</td>\n",
       "      <td>110</td>\n",
       "      <td>45.07</td>\n",
       "      <td>...</td>\n",
       "      <td>16.78</td>\n",
       "      <td>244.7</td>\n",
       "      <td>91</td>\n",
       "      <td>11.01</td>\n",
       "      <td>10.0</td>\n",
       "      <td>3</td>\n",
       "      <td>2.7</td>\n",
       "      <td>1</td>\n",
       "      <td>0</td>\n",
       "      <td>0</td>\n",
       "    </tr>\n",
       "    <tr>\n",
       "      <th>1</th>\n",
       "      <td>OH</td>\n",
       "      <td>107</td>\n",
       "      <td>415</td>\n",
       "      <td>371-7191</td>\n",
       "      <td>no</td>\n",
       "      <td>yes</td>\n",
       "      <td>26</td>\n",
       "      <td>161.6</td>\n",
       "      <td>123</td>\n",
       "      <td>27.47</td>\n",
       "      <td>...</td>\n",
       "      <td>16.62</td>\n",
       "      <td>254.4</td>\n",
       "      <td>103</td>\n",
       "      <td>11.45</td>\n",
       "      <td>13.7</td>\n",
       "      <td>3</td>\n",
       "      <td>3.7</td>\n",
       "      <td>1</td>\n",
       "      <td>0</td>\n",
       "      <td>0</td>\n",
       "    </tr>\n",
       "  </tbody>\n",
       "</table>\n",
       "<p>2 rows × 22 columns</p>\n",
       "</div>"
      ],
      "text/plain": [
       "  state  account length  area code phone number international plan  \\\n",
       "0    KS             128        415     382-4657                 no   \n",
       "1    OH             107        415     371-7191                 no   \n",
       "\n",
       "  voice mail plan  number vmail messages  total day minutes  total day calls  \\\n",
       "0             yes                     25              265.1              110   \n",
       "1             yes                     26              161.6              123   \n",
       "\n",
       "   total day charge  ...  total eve charge  total night minutes  \\\n",
       "0             45.07  ...             16.78                244.7   \n",
       "1             27.47  ...             16.62                254.4   \n",
       "\n",
       "   total night calls  total night charge  total intl minutes  \\\n",
       "0                 91               11.01                10.0   \n",
       "1                103               11.45                13.7   \n",
       "\n",
       "   total intl calls  total intl charge  customer service calls  churn  \\\n",
       "0                 3                2.7                       1      0   \n",
       "1                 3                3.7                       1      0   \n",
       "\n",
       "   churn_num  \n",
       "0          0  \n",
       "1          0  \n",
       "\n",
       "[2 rows x 22 columns]"
      ]
     },
     "execution_count": 30,
     "metadata": {},
     "output_type": "execute_result"
    }
   ],
   "source": [
    "# Converting target variable to int\n",
    "df['churn']=df['churn'].astype(int)\n",
    "df.head(2)"
   ]
  },
  {
   "cell_type": "markdown",
   "id": "3836e983",
   "metadata": {},
   "source": [
    "Our target is a binary outcome"
   ]
  },
  {
   "cell_type": "code",
   "execution_count": 36,
   "id": "ebba47f0",
   "metadata": {},
   "outputs": [
    {
     "data": {
      "text/plain": [
       "(3333, 3333)"
      ]
     },
     "execution_count": 36,
     "metadata": {},
     "output_type": "execute_result"
    }
   ],
   "source": [
    "# Assessing independence of observation\n",
    "df['phone number'].nunique(),df.shape[0]"
   ]
  },
  {
   "cell_type": "markdown",
   "id": "15da2861",
   "metadata": {},
   "source": [
    "This means each row is unique since all the phone numbers were unique"
   ]
  },
  {
   "cell_type": "code",
   "execution_count": 38,
   "id": "7bd0ab8b",
   "metadata": {},
   "outputs": [
    {
     "name": "stdout",
     "output_type": "stream",
     "text": [
      "Optimization terminated successfully.\n",
      "         Current function value: 0.333545\n",
      "         Iterations 7\n",
      "                           Logit Regression Results                           \n",
      "==============================================================================\n",
      "Dep. Variable:              churn_num   No. Observations:                 3333\n",
      "Model:                          Logit   Df Residuals:                     3320\n",
      "Method:                           MLE   Df Model:                           12\n",
      "Date:                Wed, 10 Sep 2025   Pseudo R-squ.:                  0.1939\n",
      "Time:                        06:17:32   Log-Likelihood:                -1111.7\n",
      "converged:                       True   LL-Null:                       -1379.1\n",
      "Covariance Type:            nonrobust   LLR p-value:                8.260e-107\n",
      "==============================================================================================\n",
      "                                 coef    std err          z      P>|z|      [0.025      0.975]\n",
      "----------------------------------------------------------------------------------------------\n",
      "const                         -1.5122      1.943     -0.778      0.436      -5.319       2.295\n",
      "account length                 0.0009      0.025      0.034      0.973      -0.048       0.050\n",
      "total day minutes             -0.2176      0.021    -10.457      0.000      -0.258      -0.177\n",
      "total eve minutes             -0.0528      0.033     -1.595      0.111      -0.118       0.012\n",
      "total night minutes            0.0821      0.042      1.944      0.052      -0.001       0.165\n",
      "total intl minutes            -0.0294      0.244     -0.120      0.904      -0.508       0.449\n",
      "customer service calls        -0.8895      0.169     -5.254      0.000      -1.221      -0.558\n",
      "account length_log          8.421e-05      0.005      0.019      0.985      -0.009       0.009\n",
      "total day minutes_log          0.0372      0.003     10.991      0.000       0.031       0.044\n",
      "total eve minutes_log          0.0094      0.005      1.795      0.073      -0.001       0.020\n",
      "total night minutes_log       -0.0126      0.007     -1.874      0.061      -0.026       0.001\n",
      "total intl minutes_log         0.0380      0.074      0.513      0.608      -0.107       0.183\n",
      "customer service calls_log     0.7574      0.095      8.009      0.000       0.572       0.943\n",
      "==============================================================================================\n"
     ]
    }
   ],
   "source": [
    "# Assessing linearity of the logit for continuous predictors\n",
    "import statsmodels.api as sm\n",
    "\n",
    "# Select continuous features\n",
    "cont_vars = ['account length','total day minutes','total eve minutes',\n",
    "             'total night minutes','total intl minutes','customer service calls']\n",
    "\n",
    "# Add interaction term with log(variable)\n",
    "for var in cont_vars:\n",
    "    df[var+'_log'] = df[var] * np.log(df[var] + 1)\n",
    "\n",
    "# Fit model with interaction terms\n",
    "X = sm.add_constant(df[cont_vars + [v+\"_log\" for v in cont_vars]])\n",
    "y = df['churn_num']\n",
    "\n",
    "model = sm.Logit(y, X).fit()\n",
    "print(model.summary())\n"
   ]
  },
  {
   "cell_type": "markdown",
   "id": "e8e6f6d4",
   "metadata": {},
   "source": [
    "The logit tranformation has mixed oversights most variables are better without the transformation. However, total day minutes and customer service calls show a significant improvement indicating that the two need to be tranformed to improve the results of the final model."
   ]
  },
  {
   "cell_type": "code",
   "execution_count": 43,
   "id": "3552bf78",
   "metadata": {},
   "outputs": [
    {
     "data": {
      "text/html": [
       "<div>\n",
       "<style scoped>\n",
       "    .dataframe tbody tr th:only-of-type {\n",
       "        vertical-align: middle;\n",
       "    }\n",
       "\n",
       "    .dataframe tbody tr th {\n",
       "        vertical-align: top;\n",
       "    }\n",
       "\n",
       "    .dataframe thead th {\n",
       "        text-align: right;\n",
       "    }\n",
       "</style>\n",
       "<table border=\"1\" class=\"dataframe\">\n",
       "  <thead>\n",
       "    <tr style=\"text-align: right;\">\n",
       "      <th></th>\n",
       "      <th>state</th>\n",
       "      <th>account length</th>\n",
       "      <th>area code</th>\n",
       "      <th>phone number</th>\n",
       "      <th>international plan</th>\n",
       "      <th>voice mail plan</th>\n",
       "      <th>number vmail messages</th>\n",
       "      <th>total day minutes</th>\n",
       "      <th>total day calls</th>\n",
       "      <th>total day charge</th>\n",
       "      <th>...</th>\n",
       "      <th>total intl charge</th>\n",
       "      <th>customer service calls</th>\n",
       "      <th>churn</th>\n",
       "      <th>churn_num</th>\n",
       "      <th>account length_log</th>\n",
       "      <th>total day minutes_log</th>\n",
       "      <th>total eve minutes_log</th>\n",
       "      <th>total night minutes_log</th>\n",
       "      <th>total intl minutes_log</th>\n",
       "      <th>customer service calls_log</th>\n",
       "    </tr>\n",
       "  </thead>\n",
       "  <tbody>\n",
       "    <tr>\n",
       "      <th>0</th>\n",
       "      <td>KS</td>\n",
       "      <td>128</td>\n",
       "      <td>415</td>\n",
       "      <td>382-4657</td>\n",
       "      <td>0</td>\n",
       "      <td>1</td>\n",
       "      <td>25</td>\n",
       "      <td>265.1</td>\n",
       "      <td>110</td>\n",
       "      <td>45.07</td>\n",
       "      <td>...</td>\n",
       "      <td>2.7</td>\n",
       "      <td>1</td>\n",
       "      <td>0</td>\n",
       "      <td>0</td>\n",
       "      <td>622.055988</td>\n",
       "      <td>1480.284514</td>\n",
       "      <td>1044.302297</td>\n",
       "      <td>1346.856030</td>\n",
       "      <td>23.978953</td>\n",
       "      <td>0.693147</td>\n",
       "    </tr>\n",
       "    <tr>\n",
       "      <th>1</th>\n",
       "      <td>OH</td>\n",
       "      <td>107</td>\n",
       "      <td>415</td>\n",
       "      <td>371-7191</td>\n",
       "      <td>0</td>\n",
       "      <td>1</td>\n",
       "      <td>26</td>\n",
       "      <td>161.6</td>\n",
       "      <td>123</td>\n",
       "      <td>27.47</td>\n",
       "      <td>...</td>\n",
       "      <td>3.7</td>\n",
       "      <td>1</td>\n",
       "      <td>0</td>\n",
       "      <td>0</td>\n",
       "      <td>500.988041</td>\n",
       "      <td>822.752981</td>\n",
       "      <td>1032.369505</td>\n",
       "      <td>1410.096192</td>\n",
       "      <td>36.823511</td>\n",
       "      <td>0.693147</td>\n",
       "    </tr>\n",
       "  </tbody>\n",
       "</table>\n",
       "<p>2 rows × 28 columns</p>\n",
       "</div>"
      ],
      "text/plain": [
       "  state  account length  area code phone number  international plan  \\\n",
       "0    KS             128        415     382-4657                   0   \n",
       "1    OH             107        415     371-7191                   0   \n",
       "\n",
       "   voice mail plan  number vmail messages  total day minutes  total day calls  \\\n",
       "0                1                     25              265.1              110   \n",
       "1                1                     26              161.6              123   \n",
       "\n",
       "   total day charge  ...  total intl charge  customer service calls  churn  \\\n",
       "0             45.07  ...                2.7                       1      0   \n",
       "1             27.47  ...                3.7                       1      0   \n",
       "\n",
       "   churn_num  account length_log  total day minutes_log  \\\n",
       "0          0          622.055988            1480.284514   \n",
       "1          0          500.988041             822.752981   \n",
       "\n",
       "   total eve minutes_log  total night minutes_log  total intl minutes_log  \\\n",
       "0            1044.302297              1346.856030               23.978953   \n",
       "1            1032.369505              1410.096192               36.823511   \n",
       "\n",
       "   customer service calls_log  \n",
       "0                    0.693147  \n",
       "1                    0.693147  \n",
       "\n",
       "[2 rows x 28 columns]"
      ]
     },
     "execution_count": 43,
     "metadata": {},
     "output_type": "execute_result"
    }
   ],
   "source": [
    "df.head(2)"
   ]
  },
  {
   "cell_type": "code",
   "execution_count": 44,
   "id": "0c788d7a",
   "metadata": {},
   "outputs": [
    {
     "name": "stdout",
     "output_type": "stream",
     "text": [
      "                      feature        VIF\n",
      "0                       const  62.496525\n",
      "1              account length   1.000261\n",
      "2       total day minutes_log   1.000359\n",
      "3           total eve minutes   1.000530\n",
      "4         total night minutes   1.000545\n",
      "5          total intl minutes   1.000570\n",
      "6  customer service calls_log   1.000382\n"
     ]
    }
   ],
   "source": [
    "# checking for multicolinearlity\n",
    "from statsmodels.stats.outliers_influence import variance_inflation_factor\n",
    "cont_var = ['account length','total day minutes_log','total eve minutes',\n",
    "             'total night minutes','total intl minutes','customer service calls_log']\n",
    "X = df[cont_var] \n",
    "X = sm.add_constant(X)\n",
    "\n",
    "vif_data = pd.DataFrame()\n",
    "vif_data[\"feature\"] = X.columns\n",
    "vif_data[\"VIF\"] = [variance_inflation_factor(X.values, i) for i in range(X.shape[1])]\n",
    "print(vif_data)\n"
   ]
  },
  {
   "cell_type": "markdown",
   "id": "938d0d30",
   "metadata": {},
   "source": [
    "From the above no multicolinearity is observed from our feature variables."
   ]
  },
  {
   "cell_type": "code",
   "execution_count": 45,
   "id": "6ddb365c",
   "metadata": {},
   "outputs": [
    {
     "name": "stdout",
     "output_type": "stream",
     "text": [
      "Optimization terminated successfully.\n",
      "         Current function value: 0.353937\n",
      "         Iterations 7\n"
     ]
    }
   ],
   "source": [
    "# Checking for convergence\n",
    "model = sm.Logit(y, sm.add_constant(X)).fit()\n"
   ]
  },
  {
   "cell_type": "markdown",
   "id": "b5f4f14b",
   "metadata": {},
   "source": [
    "This means our model coverges correctly as it should. No predictors that do too well at prediction. Hence, all our predictors are fit for our final model."
   ]
  },
  {
   "cell_type": "markdown",
   "id": "8181d3bc",
   "metadata": {},
   "source": [
    "###"
   ]
  }
 ],
 "metadata": {
  "kernelspec": {
   "display_name": "learn-env",
   "language": "python",
   "name": "learn-env"
  },
  "language_info": {
   "codemirror_mode": {
    "name": "ipython",
    "version": 3
   },
   "file_extension": ".py",
   "mimetype": "text/x-python",
   "name": "python",
   "nbconvert_exporter": "python",
   "pygments_lexer": "ipython3",
   "version": "3.11.13"
  }
 },
 "nbformat": 4,
 "nbformat_minor": 5
}
